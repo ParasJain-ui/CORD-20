{
 "cells": [
  {
   "cell_type": "code",
   "execution_count": 15,
   "metadata": {},
   "outputs": [],
   "source": [
    "import os\n",
    "from os.path import join\n",
    "from os import getcwd, chdir, listdir\n",
    "import json"
   ]
  },
  {
   "cell_type": "code",
   "execution_count": 16,
   "metadata": {},
   "outputs": [],
   "source": [
    "path = join(getcwd() + '/CORD-19-research-challenge')\n",
    "directories = [x[1] for x in os.walk(path)][0]"
   ]
  },
  {
   "cell_type": "code",
   "execution_count": 17,
   "metadata": {},
   "outputs": [],
   "source": [
    "for dirs in directories:\n",
    "    curr_dir = path + '/' + dirs + '/' + dirs + '/'\n",
    "    articles = listdir(curr_dir)\n",
    "    \n",
    "    for article in articles:\n",
    "        with open(curr_dir+article, 'rb') as file:\n",
    "            JSON = json.load(file)\n",
    "        break\n",
    "            \n",
    "            "
   ]
  },
  {
   "cell_type": "code",
   "execution_count": 18,
   "metadata": {},
   "outputs": [
    {
     "data": {
      "text/plain": [
       "dict_keys(['paper_id', 'metadata', 'abstract', 'body_text', 'bib_entries', 'ref_entries', 'back_matter'])"
      ]
     },
     "execution_count": 18,
     "metadata": {},
     "output_type": "execute_result"
    }
   ],
   "source": [
    "JSON.keys()"
   ]
  },
  {
   "cell_type": "code",
   "execution_count": 19,
   "metadata": {},
   "outputs": [
    {
     "data": {
      "text/plain": [
       "['E']"
      ]
     },
     "execution_count": 19,
     "metadata": {},
     "output_type": "execute_result"
    }
   ],
   "source": [
    "JSON['metadata']['authors'][0]['middle']"
   ]
  },
  {
   "cell_type": "code",
   "execution_count": 20,
   "metadata": {},
   "outputs": [],
   "source": [
    "def extract_features(file):\n",
    "    paper_id = file['paper_id']\n",
    "    metadata = file['metadata']\n",
    "    title = metadata['title']\n",
    "    authors = []\n",
    "    for author in metadata['authors']:\n",
    "        first = author['first']\n",
    "        if len(author['middle']) > 0:\n",
    "            middle = author['middle'][0]\n",
    "        last = author['last']\n",
    "        name = first + ' ' + middle + ' ' + last\n",
    "        authors.append(name)\n",
    "    return paper_id, title, authors\n",
    "\n",
    "    "
   ]
  },
  {
   "cell_type": "code",
   "execution_count": 21,
   "metadata": {},
   "outputs": [
    {
     "name": "stdout",
     "output_type": "stream",
     "text": [
      "65ea761c7d7cafc62d68454ebf79a2804d28174f\n",
      "Communicable Respiratory Threats in the ED: Tuberculosis, Influenza, SARS, and Other Aerosolized Infections\n",
      "['Richard E Rothman', 'Yu-Hsiang E Hsieh', 'Samuel E Yang']\n"
     ]
    }
   ],
   "source": [
    "_id, title, authors = extract_features(JSON)\n",
    "print(_id)\n",
    "print(title)\n",
    "print(authors)"
   ]
  },
  {
   "cell_type": "code",
   "execution_count": null,
   "metadata": {},
   "outputs": [],
   "source": []
  },
  {
   "cell_type": "code",
   "execution_count": null,
   "metadata": {},
   "outputs": [],
   "source": []
  },
  {
   "cell_type": "code",
   "execution_count": null,
   "metadata": {},
   "outputs": [],
   "source": []
  }
 ],
 "metadata": {
  "kernelspec": {
   "display_name": "Python 3",
   "language": "python",
   "name": "python3"
  },
  "language_info": {
   "codemirror_mode": {
    "name": "ipython",
    "version": 3
   },
   "file_extension": ".py",
   "mimetype": "text/x-python",
   "name": "python",
   "nbconvert_exporter": "python",
   "pygments_lexer": "ipython3",
   "version": "3.7.4"
  }
 },
 "nbformat": 4,
 "nbformat_minor": 2
}
